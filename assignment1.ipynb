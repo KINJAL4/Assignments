{
 "cells": [
  {
   "cell_type": "code",
   "execution_count": 1,
   "metadata": {},
   "outputs": [],
   "source": [
    "l=[25,36,31,17,61,19,58,39,67,81]"
   ]
  },
  {
   "cell_type": "code",
   "execution_count": 6,
   "metadata": {},
   "outputs": [
    {
     "name": "stdout",
     "output_type": "stream",
     "text": [
      "25 is not prime\n",
      "25 is odd\n",
      "36 is not prime\n",
      "36 is even\n",
      "31 is prime\n",
      "31 is odd\n",
      "17 is prime\n",
      "17 is odd\n",
      "61 is prime\n",
      "61 is odd\n",
      "19 is prime\n",
      "19 is odd\n",
      "58 is not prime\n",
      "58 is even\n",
      "39 is not prime\n",
      "39 is odd\n",
      "67 is prime\n",
      "67 is odd\n",
      "81 is not prime\n",
      "81 is odd\n"
     ]
    }
   ],
   "source": [
    "for i in range(0,10):\n",
    "    for divisor in range(2,l[i]):\n",
    "        if l[i] % divisor ==0:\n",
    "            print(\"{} is not prime\".format(l[i]))\n",
    "            break\n",
    "    if divisor == (l[i] - 1):\n",
    "        print(\"{} is prime\".format(l[i]))\n",
    "    if l[i] %2 == 0:\n",
    "        print(\"{} is even\".format(l[i]))\n",
    "    else:\n",
    "        print(\"{} is odd\".format(l[i]))\n"
   ]
  },
  {
   "cell_type": "code",
   "execution_count": 9,
   "metadata": {},
   "outputs": [],
   "source": [
    "l1 = ['prime','even']"
   ]
  },
  {
   "cell_type": "code",
   "execution_count": 10,
   "metadata": {},
   "outputs": [],
   "source": [
    "l2 = [[31,17,61,19,67],[36,58]]"
   ]
  },
  {
   "cell_type": "code",
   "execution_count": 12,
   "metadata": {},
   "outputs": [
    {
     "data": {
      "text/plain": [
       "{'prime': [31, 17, 61, 19, 67], 'even': [36, 58]}"
      ]
     },
     "execution_count": 12,
     "metadata": {},
     "output_type": "execute_result"
    }
   ],
   "source": [
    "dict(zip(l1,l2))"
   ]
  },
  {
   "cell_type": "code",
   "execution_count": null,
   "metadata": {},
   "outputs": [],
   "source": []
  }
 ],
 "metadata": {
  "kernelspec": {
   "display_name": "Python 3",
   "language": "python",
   "name": "python3"
  },
  "language_info": {
   "codemirror_mode": {
    "name": "ipython",
    "version": 3
   },
   "file_extension": ".py",
   "mimetype": "text/x-python",
   "name": "python",
   "nbconvert_exporter": "python",
   "pygments_lexer": "ipython3",
   "version": "3.8.5"
  }
 },
 "nbformat": 4,
 "nbformat_minor": 4
}
